{
 "cells": [
  {
   "cell_type": "code",
   "execution_count": 1,
   "metadata": {},
   "outputs": [],
   "source": [
    "import numpy as np\n",
    "import pandas as pd\n",
    "import matplotlib.pyplot as plt\n",
    "import seaborn as sns\n",
    "from sklearn.model_selection import train_test_split\n",
    "from sklearn.linear_model import LogisticRegression\n",
    "\n",
    "from sklearn.metrics import confusion_matrix\n",
    "from sklearn.metrics import classification_report\n",
    "from sklearn.preprocessing import StandardScaler\n",
    "from sklearn.preprocessing import LabelEncoder\n",
    "\n",
    "import warnings\n",
    "warnings.filterwarnings(\"ignore\")"
   ]
  },
  {
   "cell_type": "code",
   "execution_count": 3,
   "metadata": {},
   "outputs": [
    {
     "data": {
      "text/plain": [
       "(119390, 32)"
      ]
     },
     "execution_count": 3,
     "metadata": {},
     "output_type": "execute_result"
    }
   ],
   "source": [
    "df = pd.read_csv('hotel_bookings.csv')\n",
    "df.shape"
   ]
  },
  {
   "cell_type": "code",
   "execution_count": 3,
   "metadata": {},
   "outputs": [
    {
     "data": {
      "text/plain": [
       "hotel                                  0\n",
       "is_canceled                            0\n",
       "lead_time                              0\n",
       "arrival_date_year                      0\n",
       "arrival_date_month                     0\n",
       "arrival_date_week_number               0\n",
       "arrival_date_day_of_month              0\n",
       "stays_in_weekend_nights                0\n",
       "stays_in_week_nights                   0\n",
       "adults                                 0\n",
       "children                               4\n",
       "babies                                 0\n",
       "meal                                   0\n",
       "country                              488\n",
       "market_segment                         0\n",
       "distribution_channel                   0\n",
       "is_repeated_guest                      0\n",
       "previous_cancellations                 0\n",
       "previous_bookings_not_canceled         0\n",
       "reserved_room_type                     0\n",
       "assigned_room_type                     0\n",
       "booking_changes                        0\n",
       "deposit_type                           0\n",
       "agent                              16340\n",
       "company                           112593\n",
       "days_in_waiting_list                   0\n",
       "customer_type                          0\n",
       "adr                                    0\n",
       "required_car_parking_spaces            0\n",
       "total_of_special_requests              0\n",
       "reservation_status                     0\n",
       "reservation_status_date                0\n",
       "dtype: int64"
      ]
     },
     "execution_count": 3,
     "metadata": {},
     "output_type": "execute_result"
    }
   ],
   "source": [
    "df.isnull().sum()"
   ]
  },
  {
   "cell_type": "code",
   "execution_count": 3,
   "metadata": {},
   "outputs": [
    {
     "data": {
      "text/plain": [
       "(118898, 32)"
      ]
     },
     "execution_count": 3,
     "metadata": {},
     "output_type": "execute_result"
    }
   ],
   "source": [
    "#Droprows having missing values except for variables like Agent or Company,\n",
    "#“NULL” is presented as one of the categories.\n",
    "df1 = df.dropna(axis=0,how = \"any\",subset=['children', 'country'])\n",
    "df1.shape"
   ]
  },
  {
   "cell_type": "code",
   "execution_count": 4,
   "metadata": {},
   "outputs": [
    {
     "data": {
      "text/html": [
       "<div>\n",
       "<style scoped>\n",
       "    .dataframe tbody tr th:only-of-type {\n",
       "        vertical-align: middle;\n",
       "    }\n",
       "\n",
       "    .dataframe tbody tr th {\n",
       "        vertical-align: top;\n",
       "    }\n",
       "\n",
       "    .dataframe thead th {\n",
       "        text-align: right;\n",
       "    }\n",
       "</style>\n",
       "<table border=\"1\" class=\"dataframe\">\n",
       "  <thead>\n",
       "    <tr style=\"text-align: right;\">\n",
       "      <th></th>\n",
       "      <th>hotel</th>\n",
       "      <th>is_canceled</th>\n",
       "      <th>lead_time</th>\n",
       "      <th>arrival_date_year</th>\n",
       "      <th>arrival_date_month</th>\n",
       "      <th>arrival_date_week_number</th>\n",
       "      <th>arrival_date_day_of_month</th>\n",
       "      <th>stays_in_weekend_nights</th>\n",
       "      <th>stays_in_week_nights</th>\n",
       "      <th>adults</th>\n",
       "      <th>...</th>\n",
       "      <th>agent</th>\n",
       "      <th>company</th>\n",
       "      <th>days_in_waiting_list</th>\n",
       "      <th>customer_type</th>\n",
       "      <th>adr</th>\n",
       "      <th>required_car_parking_spaces</th>\n",
       "      <th>total_of_special_requests</th>\n",
       "      <th>reservation_status</th>\n",
       "      <th>reservation_status_date</th>\n",
       "      <th>arrival_date</th>\n",
       "    </tr>\n",
       "  </thead>\n",
       "  <tbody>\n",
       "    <tr>\n",
       "      <th>0</th>\n",
       "      <td>Resort Hotel</td>\n",
       "      <td>0</td>\n",
       "      <td>342</td>\n",
       "      <td>2015</td>\n",
       "      <td>July</td>\n",
       "      <td>27</td>\n",
       "      <td>1</td>\n",
       "      <td>0</td>\n",
       "      <td>0</td>\n",
       "      <td>2</td>\n",
       "      <td>...</td>\n",
       "      <td>NaN</td>\n",
       "      <td>NaN</td>\n",
       "      <td>0</td>\n",
       "      <td>Transient</td>\n",
       "      <td>0.0</td>\n",
       "      <td>0</td>\n",
       "      <td>0</td>\n",
       "      <td>Check-Out</td>\n",
       "      <td>2015-07-01</td>\n",
       "      <td>1-July-2015</td>\n",
       "    </tr>\n",
       "    <tr>\n",
       "      <th>1</th>\n",
       "      <td>Resort Hotel</td>\n",
       "      <td>0</td>\n",
       "      <td>737</td>\n",
       "      <td>2015</td>\n",
       "      <td>July</td>\n",
       "      <td>27</td>\n",
       "      <td>1</td>\n",
       "      <td>0</td>\n",
       "      <td>0</td>\n",
       "      <td>2</td>\n",
       "      <td>...</td>\n",
       "      <td>NaN</td>\n",
       "      <td>NaN</td>\n",
       "      <td>0</td>\n",
       "      <td>Transient</td>\n",
       "      <td>0.0</td>\n",
       "      <td>0</td>\n",
       "      <td>0</td>\n",
       "      <td>Check-Out</td>\n",
       "      <td>2015-07-01</td>\n",
       "      <td>1-July-2015</td>\n",
       "    </tr>\n",
       "    <tr>\n",
       "      <th>2</th>\n",
       "      <td>Resort Hotel</td>\n",
       "      <td>0</td>\n",
       "      <td>7</td>\n",
       "      <td>2015</td>\n",
       "      <td>July</td>\n",
       "      <td>27</td>\n",
       "      <td>1</td>\n",
       "      <td>0</td>\n",
       "      <td>1</td>\n",
       "      <td>1</td>\n",
       "      <td>...</td>\n",
       "      <td>NaN</td>\n",
       "      <td>NaN</td>\n",
       "      <td>0</td>\n",
       "      <td>Transient</td>\n",
       "      <td>75.0</td>\n",
       "      <td>0</td>\n",
       "      <td>0</td>\n",
       "      <td>Check-Out</td>\n",
       "      <td>2015-07-02</td>\n",
       "      <td>1-July-2015</td>\n",
       "    </tr>\n",
       "    <tr>\n",
       "      <th>3</th>\n",
       "      <td>Resort Hotel</td>\n",
       "      <td>0</td>\n",
       "      <td>13</td>\n",
       "      <td>2015</td>\n",
       "      <td>July</td>\n",
       "      <td>27</td>\n",
       "      <td>1</td>\n",
       "      <td>0</td>\n",
       "      <td>1</td>\n",
       "      <td>1</td>\n",
       "      <td>...</td>\n",
       "      <td>304.0</td>\n",
       "      <td>NaN</td>\n",
       "      <td>0</td>\n",
       "      <td>Transient</td>\n",
       "      <td>75.0</td>\n",
       "      <td>0</td>\n",
       "      <td>0</td>\n",
       "      <td>Check-Out</td>\n",
       "      <td>2015-07-02</td>\n",
       "      <td>1-July-2015</td>\n",
       "    </tr>\n",
       "    <tr>\n",
       "      <th>4</th>\n",
       "      <td>Resort Hotel</td>\n",
       "      <td>0</td>\n",
       "      <td>14</td>\n",
       "      <td>2015</td>\n",
       "      <td>July</td>\n",
       "      <td>27</td>\n",
       "      <td>1</td>\n",
       "      <td>0</td>\n",
       "      <td>2</td>\n",
       "      <td>2</td>\n",
       "      <td>...</td>\n",
       "      <td>240.0</td>\n",
       "      <td>NaN</td>\n",
       "      <td>0</td>\n",
       "      <td>Transient</td>\n",
       "      <td>98.0</td>\n",
       "      <td>0</td>\n",
       "      <td>1</td>\n",
       "      <td>Check-Out</td>\n",
       "      <td>2015-07-03</td>\n",
       "      <td>1-July-2015</td>\n",
       "    </tr>\n",
       "  </tbody>\n",
       "</table>\n",
       "<p>5 rows × 33 columns</p>\n",
       "</div>"
      ],
      "text/plain": [
       "          hotel  is_canceled  lead_time arrival_date_year arrival_date_month  \\\n",
       "0  Resort Hotel            0        342              2015               July   \n",
       "1  Resort Hotel            0        737              2015               July   \n",
       "2  Resort Hotel            0          7              2015               July   \n",
       "3  Resort Hotel            0         13              2015               July   \n",
       "4  Resort Hotel            0         14              2015               July   \n",
       "\n",
       "   arrival_date_week_number arrival_date_day_of_month  \\\n",
       "0                        27                         1   \n",
       "1                        27                         1   \n",
       "2                        27                         1   \n",
       "3                        27                         1   \n",
       "4                        27                         1   \n",
       "\n",
       "   stays_in_weekend_nights  stays_in_week_nights  adults  ...  agent  company  \\\n",
       "0                        0                     0       2  ...    NaN      NaN   \n",
       "1                        0                     0       2  ...    NaN      NaN   \n",
       "2                        0                     1       1  ...    NaN      NaN   \n",
       "3                        0                     1       1  ...  304.0      NaN   \n",
       "4                        0                     2       2  ...  240.0      NaN   \n",
       "\n",
       "  days_in_waiting_list customer_type   adr required_car_parking_spaces  \\\n",
       "0                    0     Transient   0.0                           0   \n",
       "1                    0     Transient   0.0                           0   \n",
       "2                    0     Transient  75.0                           0   \n",
       "3                    0     Transient  75.0                           0   \n",
       "4                    0     Transient  98.0                           0   \n",
       "\n",
       "   total_of_special_requests  reservation_status  reservation_status_date  \\\n",
       "0                          0           Check-Out               2015-07-01   \n",
       "1                          0           Check-Out               2015-07-01   \n",
       "2                          0           Check-Out               2015-07-02   \n",
       "3                          0           Check-Out               2015-07-02   \n",
       "4                          1           Check-Out               2015-07-03   \n",
       "\n",
       "  arrival_date  \n",
       "0  1-July-2015  \n",
       "1  1-July-2015  \n",
       "2  1-July-2015  \n",
       "3  1-July-2015  \n",
       "4  1-July-2015  \n",
       "\n",
       "[5 rows x 33 columns]"
      ]
     },
     "execution_count": 4,
     "metadata": {},
     "output_type": "execute_result"
    }
   ],
   "source": [
    "#Change arrival year, month and day feature to datetime format called arrival_date.\n",
    "df1 = df1.astype({\"arrival_date_year\": str, \"arrival_date_month\": str, \"arrival_date_day_of_month\": str})\n",
    "df1['arrival_date'] = df1[['arrival_date_day_of_month','arrival_date_month','arrival_date_year']].agg('-'.join, axis=1)\n",
    "df1.head()"
   ]
  },
  {
   "cell_type": "code",
   "execution_count": 5,
   "metadata": {},
   "outputs": [],
   "source": [
    "df1['arrival_date']= pd.to_datetime(df1['arrival_date'])"
   ]
  },
  {
   "cell_type": "code",
   "execution_count": 6,
   "metadata": {},
   "outputs": [],
   "source": [
    "## If no id of agent or company is null, just replace it with 0\n",
    "df1[['agent','company']] = df1[['agent','company']].fillna(0.0)"
   ]
  },
  {
   "cell_type": "code",
   "execution_count": 7,
   "metadata": {},
   "outputs": [],
   "source": [
    "## For the missing values in the country column, replace it with mode (value that appears most often)\n",
    "df1['country'].fillna(df.country.mode().to_string(), inplace=True)\n",
    "\n",
    "\n",
    "## for missing children value, replace it with rounded mean value\n",
    "df1['children'].fillna(round(df.children.mean()), inplace=True)"
   ]
  },
  {
   "cell_type": "code",
   "execution_count": 8,
   "metadata": {},
   "outputs": [],
   "source": [
    "## Drop Rows where there is no adult, baby and child\n",
    "df1 = df1.drop(df1[(df1.adults+df1.babies+df1.children)==0].index)"
   ]
  },
  {
   "cell_type": "code",
   "execution_count": 9,
   "metadata": {},
   "outputs": [],
   "source": [
    "## convert datatype of these columns from float to integer\n",
    "df1[['children', 'company', 'agent']] = df1[['children', 'company', 'agent']].astype('int64')"
   ]
  },
  {
   "cell_type": "code",
   "execution_count": 10,
   "metadata": {},
   "outputs": [],
   "source": [
    "# First copy the dataset, so our original dataset remains unchanged\n",
    "data = df1.copy()"
   ]
  },
  {
   "cell_type": "markdown",
   "metadata": {},
   "source": [
    "## B.1 Exploratory Data Analysis ( correlation ) "
   ]
  },
  {
   "cell_type": "code",
   "execution_count": 11,
   "metadata": {},
   "outputs": [
    {
     "data": {
      "text/plain": [
       "lead_time                         0.291602\n",
       "total_of_special_requests         0.235923\n",
       "required_car_parking_spaces       0.195012\n",
       "booking_changes                   0.145136\n",
       "previous_cancellations            0.109909\n",
       "is_repeated_guest                 0.084141\n",
       "company                           0.082204\n",
       "adults                            0.056130\n",
       "previous_bookings_not_canceled    0.055502\n",
       "days_in_waiting_list              0.054113\n",
       "agent                             0.046859\n",
       "adr                               0.044885\n",
       "babies                            0.032605\n",
       "stays_in_week_nights              0.024803\n",
       "arrival_date_week_number          0.007664\n",
       "children                          0.004535\n",
       "stays_in_weekend_nights           0.002223\n",
       "Name: is_canceled, dtype: float64"
      ]
     },
     "execution_count": 11,
     "metadata": {},
     "output_type": "execute_result"
    }
   ],
   "source": [
    "correlation = data.corr()[\"is_canceled\"]\n",
    "correlation.abs().sort_values(ascending=False)[1:]"
   ]
  },
  {
   "cell_type": "code",
   "execution_count": 12,
   "metadata": {},
   "outputs": [
    {
     "data": {
      "image/png": "[encoded data removed]",
      "text/plain": [
       "<Figure size 576x576 with 2 Axes>"
      ]
     },
     "metadata": {
      "needs_background": "light"
     },
     "output_type": "display_data"
    }
   ],
   "source": [
    "corr = data.corr()\n",
    "fig, ax = plt.subplots(figsize=(8, 8))\n",
    "colormap = sns.diverging_palette(220, 10, as_cmap=True)\n",
    "dropSelf = np.zeros_like(corr)\n",
    "dropSelf[np.triu_indices_from(dropSelf)] = True\n",
    "colormap = sns.diverging_palette(220, 10, as_cmap=True)\n",
    "sns.heatmap(corr, cmap=colormap, linewidths=.5, annot=True, fmt=\".2f\", mask=dropSelf)\n",
    "plt.show()"
   ]
  },
  {
   "cell_type": "markdown",
   "metadata": {},
   "source": [
    "Based on the codes above, we can conclude than the features who have the biggest correlation to the target ('is_cancelled') are required_car_parking_spaces, lead_time, booking_changes, adr, and adults."
   ]
  },
  {
   "cell_type": "code",
   "execution_count": 13,
   "metadata": {},
   "outputs": [
    {
     "data": {
      "image/png": "[encoded data removed]",
      "text/plain": [
       "<Figure size 720x432 with 1 Axes>"
      ]
     },
     "metadata": {
      "needs_background": "light"
     },
     "output_type": "display_data"
    }
   ],
   "source": [
    "plt.figure(figsize=(10,6))\n",
    "sns.set(style = \"darkgrid\")\n",
    "plt.title(\"Is the Booking Canceled or Not\", fontdict = {'fontsize': 20})\n",
    "axis = sns.countplot(x = \"is_canceled\", hue = 'is_repeated_guest', data = data)\n",
    "# with 0 is the not cancelled booking, and 1 is the cancelled bookings."
   ]
  },
  {
   "cell_type": "code",
   "execution_count": 14,
   "metadata": {},
   "outputs": [
    {
     "data": {
      "image/png": "[encoded data removed]",
      "text/plain": [
       "<Figure size 936x360 with 1 Axes>"
      ]
     },
     "metadata": {},
     "output_type": "display_data"
    }
   ],
   "source": [
    "plt.figure(figsize = (13,5))\n",
    "sns.boxplot(x = 'required_car_parking_spaces', y = 'is_canceled', data = data);"
   ]
  },
  {
   "cell_type": "code",
   "execution_count": 17,
   "metadata": {},
   "outputs": [
    {
     "data": {
      "text/plain": [
       "0    67287\n",
       "1    44138\n",
       "Name: is_canceled, dtype: int64"
      ]
     },
     "execution_count": 17,
     "metadata": {},
     "output_type": "execute_result"
    }
   ],
   "source": [
    "data[data['required_car_parking_spaces'] == 0]['is_canceled'].value_counts()"
   ]
  },
  {
   "cell_type": "markdown",
   "metadata": {},
   "source": [
    "From the visualizations above, most of the bookings canceled came from those who only require 1 parking space."
   ]
  },
  {
   "cell_type": "code",
   "execution_count": 18,
   "metadata": {},
   "outputs": [
    {
     "data": {
      "text/plain": [
       "<AxesSubplot:xlabel='arrival_date_month', ylabel='adults'>"
      ]
     },
     "execution_count": 18,
     "metadata": {},
     "output_type": "execute_result"
    },
    {
     "data": {
      "image/png": "[encoded data removed]",
      "text/plain": [
       "<Figure size 936x360 with 1 Axes>"
      ]
     },
     "metadata": {},
     "output_type": "display_data"
    }
   ],
   "source": [
    "plt.figure(figsize = (13,5))\n",
    "sns.barplot(x ='arrival_date_month', y = 'adults', data = data)"
   ]
  },
  {
   "cell_type": "markdown",
   "metadata": {},
   "source": [
    "Based on the plot above, most of the adults arrive at their hotels in July and August, with over 2.0 adults.The barplot gives us the mean of adults not their sum."
   ]
  },
  {
   "cell_type": "code",
   "execution_count": 26,
   "metadata": {},
   "outputs": [
    {
     "data": {
      "text/plain": [
       "1.6994503045609866"
      ]
     },
     "execution_count": 26,
     "metadata": {},
     "output_type": "execute_result"
    }
   ],
   "source": [
    "data[data['arrival_date_month'] == \"November\"]['adults'].mean()"
   ]
  },
  {
   "cell_type": "code",
   "execution_count": 27,
   "metadata": {},
   "outputs": [
    {
     "data": {
      "text/plain": [
       "<AxesSubplot:xlabel='is_canceled', ylabel='lead_time'>"
      ]
     },
     "execution_count": 27,
     "metadata": {},
     "output_type": "execute_result"
    },
    {
     "data": {
      "image/png": "[encoded data removed]",
      "text/plain": [
       "<Figure size 936x360 with 1 Axes>"
      ]
     },
     "metadata": {},
     "output_type": "display_data"
    }
   ],
   "source": [
    "plt.figure(figsize = (13,5 ))\n",
    "sns.barplot(x ='is_canceled', y = 'lead_time', data = data)"
   ]
  },
  {
   "cell_type": "code",
   "execution_count": 28,
   "metadata": {},
   "outputs": [
    {
     "data": {
      "image/png": "[encoded data removed]",
      "text/plain": [
       "<Figure size 936x360 with 1 Axes>"
      ]
     },
     "metadata": {},
     "output_type": "display_data"
    }
   ],
   "source": [
    "plt.figure(figsize = (13,5))\n",
    "sns.boxplot(x = 'is_canceled', y = 'lead_time', data = data);"
   ]
  },
  {
   "cell_type": "markdown",
   "metadata": {},
   "source": [
    "The plots above suggest that people who cancelled their hotel bookings have more lead time (the difference between the time they book and the day they arrived) than those who did not cancal their bookings. we do the same for adr "
   ]
  },
  {
   "cell_type": "markdown",
   "metadata": {},
   "source": [
    "."
   ]
  },
  {
   "cell_type": "code",
   "execution_count": 13,
   "metadata": {},
   "outputs": [
    {
     "data": {
      "text/html": [
       "<div>\n",
       "<style scoped>\n",
       "    .dataframe tbody tr th:only-of-type {\n",
       "        vertical-align: middle;\n",
       "    }\n",
       "\n",
       "    .dataframe tbody tr th {\n",
       "        vertical-align: top;\n",
       "    }\n",
       "\n",
       "    .dataframe thead th {\n",
       "        text-align: right;\n",
       "    }\n",
       "</style>\n",
       "<table border=\"1\" class=\"dataframe\">\n",
       "  <thead>\n",
       "    <tr style=\"text-align: right;\">\n",
       "      <th></th>\n",
       "      <th>is_canceled</th>\n",
       "      <th>lead_time</th>\n",
       "      <th>arrival_date_week_number</th>\n",
       "      <th>stays_in_weekend_nights</th>\n",
       "      <th>stays_in_week_nights</th>\n",
       "      <th>adults</th>\n",
       "      <th>children</th>\n",
       "      <th>babies</th>\n",
       "      <th>is_repeated_guest</th>\n",
       "      <th>previous_cancellations</th>\n",
       "      <th>previous_bookings_not_canceled</th>\n",
       "      <th>booking_changes</th>\n",
       "      <th>agent</th>\n",
       "      <th>company</th>\n",
       "      <th>days_in_waiting_list</th>\n",
       "      <th>adr</th>\n",
       "      <th>required_car_parking_spaces</th>\n",
       "      <th>total_of_special_requests</th>\n",
       "    </tr>\n",
       "  </thead>\n",
       "  <tbody>\n",
       "    <tr>\n",
       "      <th>count</th>\n",
       "      <td>118728.000000</td>\n",
       "      <td>118728.000000</td>\n",
       "      <td>118728.000000</td>\n",
       "      <td>118728.000000</td>\n",
       "      <td>118728.000000</td>\n",
       "      <td>118728.000000</td>\n",
       "      <td>118728.000000</td>\n",
       "      <td>118728.000000</td>\n",
       "      <td>118728.000000</td>\n",
       "      <td>118728.000000</td>\n",
       "      <td>118728.000000</td>\n",
       "      <td>118728.000000</td>\n",
       "      <td>118728.000000</td>\n",
       "      <td>118728.000000</td>\n",
       "      <td>118728.000000</td>\n",
       "      <td>118728.000000</td>\n",
       "      <td>118728.000000</td>\n",
       "      <td>118728.000000</td>\n",
       "    </tr>\n",
       "    <tr>\n",
       "      <th>mean</th>\n",
       "      <td>0.371757</td>\n",
       "      <td>104.401312</td>\n",
       "      <td>27.165100</td>\n",
       "      <td>0.928307</td>\n",
       "      <td>2.500918</td>\n",
       "      <td>1.861052</td>\n",
       "      <td>0.104356</td>\n",
       "      <td>0.007959</td>\n",
       "      <td>0.031593</td>\n",
       "      <td>0.087208</td>\n",
       "      <td>0.131612</td>\n",
       "      <td>0.218828</td>\n",
       "      <td>74.951065</td>\n",
       "      <td>10.546855</td>\n",
       "      <td>2.330638</td>\n",
       "      <td>102.133442</td>\n",
       "      <td>0.061915</td>\n",
       "      <td>0.571778</td>\n",
       "    </tr>\n",
       "    <tr>\n",
       "      <th>std</th>\n",
       "      <td>0.483276</td>\n",
       "      <td>106.915284</td>\n",
       "      <td>13.586362</td>\n",
       "      <td>0.992725</td>\n",
       "      <td>1.889089</td>\n",
       "      <td>0.574697</td>\n",
       "      <td>0.399439</td>\n",
       "      <td>0.097449</td>\n",
       "      <td>0.174915</td>\n",
       "      <td>0.846419</td>\n",
       "      <td>1.485300</td>\n",
       "      <td>0.638914</td>\n",
       "      <td>107.170463</td>\n",
       "      <td>53.462466</td>\n",
       "      <td>17.633065</td>\n",
       "      <td>50.389602</td>\n",
       "      <td>0.244230</td>\n",
       "      <td>0.792740</td>\n",
       "    </tr>\n",
       "    <tr>\n",
       "      <th>min</th>\n",
       "      <td>0.000000</td>\n",
       "      <td>0.000000</td>\n",
       "      <td>1.000000</td>\n",
       "      <td>0.000000</td>\n",
       "      <td>0.000000</td>\n",
       "      <td>0.000000</td>\n",
       "      <td>0.000000</td>\n",
       "      <td>0.000000</td>\n",
       "      <td>0.000000</td>\n",
       "      <td>0.000000</td>\n",
       "      <td>0.000000</td>\n",
       "      <td>0.000000</td>\n",
       "      <td>0.000000</td>\n",
       "      <td>0.000000</td>\n",
       "      <td>0.000000</td>\n",
       "      <td>-6.380000</td>\n",
       "      <td>0.000000</td>\n",
       "      <td>0.000000</td>\n",
       "    </tr>\n",
       "    <tr>\n",
       "      <th>25%</th>\n",
       "      <td>0.000000</td>\n",
       "      <td>18.000000</td>\n",
       "      <td>16.000000</td>\n",
       "      <td>0.000000</td>\n",
       "      <td>1.000000</td>\n",
       "      <td>2.000000</td>\n",
       "      <td>0.000000</td>\n",
       "      <td>0.000000</td>\n",
       "      <td>0.000000</td>\n",
       "      <td>0.000000</td>\n",
       "      <td>0.000000</td>\n",
       "      <td>0.000000</td>\n",
       "      <td>7.000000</td>\n",
       "      <td>0.000000</td>\n",
       "      <td>0.000000</td>\n",
       "      <td>70.000000</td>\n",
       "      <td>0.000000</td>\n",
       "      <td>0.000000</td>\n",
       "    </tr>\n",
       "    <tr>\n",
       "      <th>50%</th>\n",
       "      <td>0.000000</td>\n",
       "      <td>70.000000</td>\n",
       "      <td>28.000000</td>\n",
       "      <td>1.000000</td>\n",
       "      <td>2.000000</td>\n",
       "      <td>2.000000</td>\n",
       "      <td>0.000000</td>\n",
       "      <td>0.000000</td>\n",
       "      <td>0.000000</td>\n",
       "      <td>0.000000</td>\n",
       "      <td>0.000000</td>\n",
       "      <td>0.000000</td>\n",
       "      <td>9.000000</td>\n",
       "      <td>0.000000</td>\n",
       "      <td>0.000000</td>\n",
       "      <td>95.000000</td>\n",
       "      <td>0.000000</td>\n",
       "      <td>0.000000</td>\n",
       "    </tr>\n",
       "    <tr>\n",
       "      <th>75%</th>\n",
       "      <td>1.000000</td>\n",
       "      <td>161.000000</td>\n",
       "      <td>38.000000</td>\n",
       "      <td>2.000000</td>\n",
       "      <td>3.000000</td>\n",
       "      <td>2.000000</td>\n",
       "      <td>0.000000</td>\n",
       "      <td>0.000000</td>\n",
       "      <td>0.000000</td>\n",
       "      <td>0.000000</td>\n",
       "      <td>0.000000</td>\n",
       "      <td>0.000000</td>\n",
       "      <td>153.000000</td>\n",
       "      <td>0.000000</td>\n",
       "      <td>0.000000</td>\n",
       "      <td>126.000000</td>\n",
       "      <td>0.000000</td>\n",
       "      <td>1.000000</td>\n",
       "    </tr>\n",
       "    <tr>\n",
       "      <th>max</th>\n",
       "      <td>1.000000</td>\n",
       "      <td>737.000000</td>\n",
       "      <td>53.000000</td>\n",
       "      <td>16.000000</td>\n",
       "      <td>40.000000</td>\n",
       "      <td>55.000000</td>\n",
       "      <td>10.000000</td>\n",
       "      <td>10.000000</td>\n",
       "      <td>1.000000</td>\n",
       "      <td>26.000000</td>\n",
       "      <td>72.000000</td>\n",
       "      <td>18.000000</td>\n",
       "      <td>535.000000</td>\n",
       "      <td>543.000000</td>\n",
       "      <td>391.000000</td>\n",
       "      <td>5400.000000</td>\n",
       "      <td>8.000000</td>\n",
       "      <td>5.000000</td>\n",
       "    </tr>\n",
       "  </tbody>\n",
       "</table>\n",
       "</div>"
      ],
      "text/plain": [
       "         is_canceled      lead_time  arrival_date_week_number  \\\n",
       "count  118728.000000  118728.000000             118728.000000   \n",
       "mean        0.371757     104.401312                 27.165100   \n",
       "std         0.483276     106.915284                 13.586362   \n",
       "min         0.000000       0.000000                  1.000000   \n",
       "25%         0.000000      18.000000                 16.000000   \n",
       "50%         0.000000      70.000000                 28.000000   \n",
       "75%         1.000000     161.000000                 38.000000   \n",
       "max         1.000000     737.000000                 53.000000   \n",
       "\n",
       "       stays_in_weekend_nights  stays_in_week_nights         adults  \\\n",
       "count            118728.000000         118728.000000  118728.000000   \n",
       "mean                  0.928307              2.500918       1.861052   \n",
       "std                   0.992725              1.889089       0.574697   \n",
       "min                   0.000000              0.000000       0.000000   \n",
       "25%                   0.000000              1.000000       2.000000   \n",
       "50%                   1.000000              2.000000       2.000000   \n",
       "75%                   2.000000              3.000000       2.000000   \n",
       "max                  16.000000             40.000000      55.000000   \n",
       "\n",
       "            children         babies  is_repeated_guest  \\\n",
       "count  118728.000000  118728.000000      118728.000000   \n",
       "mean        0.104356       0.007959           0.031593   \n",
       "std         0.399439       0.097449           0.174915   \n",
       "min         0.000000       0.000000           0.000000   \n",
       "25%         0.000000       0.000000           0.000000   \n",
       "50%         0.000000       0.000000           0.000000   \n",
       "75%         0.000000       0.000000           0.000000   \n",
       "max        10.000000      10.000000           1.000000   \n",
       "\n",
       "       previous_cancellations  previous_bookings_not_canceled  \\\n",
       "count           118728.000000                   118728.000000   \n",
       "mean                 0.087208                        0.131612   \n",
       "std                  0.846419                        1.485300   \n",
       "min                  0.000000                        0.000000   \n",
       "25%                  0.000000                        0.000000   \n",
       "50%                  0.000000                        0.000000   \n",
       "75%                  0.000000                        0.000000   \n",
       "max                 26.000000                       72.000000   \n",
       "\n",
       "       booking_changes          agent        company  days_in_waiting_list  \\\n",
       "count    118728.000000  118728.000000  118728.000000         118728.000000   \n",
       "mean          0.218828      74.951065      10.546855              2.330638   \n",
       "std           0.638914     107.170463      53.462466             17.633065   \n",
       "min           0.000000       0.000000       0.000000              0.000000   \n",
       "25%           0.000000       7.000000       0.000000              0.000000   \n",
       "50%           0.000000       9.000000       0.000000              0.000000   \n",
       "75%           0.000000     153.000000       0.000000              0.000000   \n",
       "max          18.000000     535.000000     543.000000            391.000000   \n",
       "\n",
       "                 adr  required_car_parking_spaces  total_of_special_requests  \n",
       "count  118728.000000                118728.000000              118728.000000  \n",
       "mean      102.133442                     0.061915                   0.571778  \n",
       "std        50.389602                     0.244230                   0.792740  \n",
       "min        -6.380000                     0.000000                   0.000000  \n",
       "25%        70.000000                     0.000000                   0.000000  \n",
       "50%        95.000000                     0.000000                   0.000000  \n",
       "75%       126.000000                     0.000000                   1.000000  \n",
       "max      5400.000000                     8.000000                   5.000000  "
      ]
     },
     "execution_count": 13,
     "metadata": {},
     "output_type": "execute_result"
    }
   ],
   "source": [
    "data.describe()"
   ]
  },
  {
   "cell_type": "markdown",
   "metadata": {},
   "source": [
    "<a id='explore'></a>\n",
    "\n",
    "## Exploring Data"
   ]
  },
  {
   "cell_type": "markdown",
   "metadata": {},
   "source": [
    "### First, how many Resort Hotels and City Hotels we have in our data?"
   ]
  },
  {
   "cell_type": "code",
   "execution_count": 20,
   "metadata": {},
   "outputs": [
    {
     "data": {
      "image/png": "[encoded data removed]",
      "text/plain": [
       "<Figure size 432x288 with 1 Axes>"
      ]
     },
     "metadata": {
      "needs_background": "light"
     },
     "output_type": "display_data"
    }
   ],
   "source": [
    "data.hotel.hist()\n",
    "plt.show()"
   ]
  },
  {
   "cell_type": "markdown",
   "metadata": {},
   "source": [
    "We can see that the majority of our data is in city hotel, we're going to split our data to resort and city dataframe"
   ]
  },
  {
   "cell_type": "code",
   "execution_count": 11,
   "metadata": {},
   "outputs": [],
   "source": [
    "resort = data[data.hotel == \"Resort Hotel\"].drop(\"hotel\",axis = 1)\n",
    "city_ht = data[data.hotel == \"City Hotel\"].drop(\"hotel\",axis = 1)"
   ]
  },
  {
   "cell_type": "markdown",
   "metadata": {},
   "source": [
    "### When are the high, middle and low season?"
   ]
  },
  {
   "cell_type": "code",
   "execution_count": 12,
   "metadata": {},
   "outputs": [
    {
     "data": {
      "image/png": "[encoded data removed]",
      "text/plain": [
       "<Figure size 720x360 with 1 Axes>"
      ]
     },
     "metadata": {
      "needs_background": "light"
     },
     "output_type": "display_data"
    }
   ],
   "source": [
    "order = ['January','February', 'March', 'April', 'May', 'June',\\\n",
    "         'July', 'August', 'September', 'October', 'November', 'December']\n",
    "\n",
    "\n",
    "fig, ax = plt.subplots(figsize=(10,5))\n",
    "ax.bar(order, city_ht['arrival_date_month'].value_counts()[order],label='City Hotel')\n",
    "ax.bar(order, resort['arrival_date_month'].value_counts()[order],label='Resort Hotel')\n",
    "ax.set_xticklabels(order,rotation=45)\n",
    "ax.set_title('Bookings by Month')\n",
    "ax.legend()\n",
    "plt.show()"
   ]
  },
  {
   "cell_type": "markdown",
   "metadata": {},
   "source": [
    "We see that August has the majority of the bookings, both for City Hotels and Resort Hotels. We could classify the seasons as:\n",
    "\n",
    "- low season: __January, December, November, February__\n",
    "\n",
    "- middle season: __March, September, April, October__\n",
    "\n",
    "- high season: __June, July, May, August__"
   ]
  },
  {
   "cell_type": "markdown",
   "metadata": {},
   "source": [
    "### What are the features of cancelled bookings?"
   ]
  },
  {
   "cell_type": "markdown",
   "metadata": {},
   "source": [
    "#### Cancellations by Month"
   ]
  },
  {
   "cell_type": "code",
   "execution_count": 16,
   "metadata": {},
   "outputs": [
    {
     "data": {
      "image/png": "[encoded data removed]",
      "text/plain": [
       "<Figure size 720x360 with 1 Axes>"
      ]
     },
     "metadata": {
      "needs_background": "light"
     },
     "output_type": "display_data"
    }
   ],
   "source": [
    "def v_counts(dff,x):\n",
    "    return dff.loc[dff.is_canceled==1,x].value_counts(normalize=True)\n",
    "\n",
    "barWidth = 0.25\n",
    "\n",
    "x_axis = np.arange(len(order))\n",
    "\n",
    "fig, ax = plt.subplots(figsize=(10,5))\n",
    "ax.bar(x_axis,v_counts(resort,'arrival_date_month')[order],label='Resort Hotel',width=barWidth,edgecolor='white')\n",
    "ax.bar([x + barWidth for x in x_axis],v_counts(city_ht,'arrival_date_month')[order]\\\n",
    "       ,label='City Hotel',width=barWidth,edgecolor='white')\n",
    "plt.xticks(x_axis+barWidth,order,rotation=45)\n",
    "ax.set_title('Percentage of Total Cancelations by Month')\n",
    "ax.legend()\n",
    "plt.show()"
   ]
  },
  {
   "cell_type": "markdown",
   "metadata": {},
   "source": [
    "As we can see, most cancellations happen in the high season. Which is expected, since most reservations are being done."
   ]
  },
  {
   "cell_type": "markdown",
   "metadata": {},
   "source": [
    "## C. MODEL BUILDING & HYPERPARAMETER TUNING"
   ]
  },
  {
   "cell_type": "code",
   "execution_count": 11,
   "metadata": {},
   "outputs": [
    {
     "name": "stdout",
     "output_type": "stream",
     "text": [
      "<class 'pandas.core.frame.DataFrame'>\n",
      "Int64Index: 2999 entries, 0 to 3001\n",
      "Data columns (total 6 columns):\n",
      " #   Column                       Non-Null Count  Dtype  \n",
      "---  ------                       --------------  -----  \n",
      " 0   is_canceled                  2999 non-null   int64  \n",
      " 1   required_car_parking_spaces  2999 non-null   int64  \n",
      " 2   lead_time                    2999 non-null   int64  \n",
      " 3   booking_changes              2999 non-null   int64  \n",
      " 4   adr                          2999 non-null   float64\n",
      " 5   adults                       2999 non-null   int64  \n",
      "dtypes: float64(1), int64(5)\n",
      "memory usage: 164.0 KB\n"
     ]
    }
   ],
   "source": [
    "df2 = data.copy()\n",
    "data2 = df2[['is_canceled','required_car_parking_spaces','lead_time','booking_changes','adr','adults']]\n",
    "data3 = data2.iloc[0:2999]\n",
    "data3.info()"
   ]
  },
  {
   "cell_type": "code",
   "execution_count": 12,
   "metadata": {},
   "outputs": [],
   "source": [
    "df2 = data.copy()\n",
    "data2 = df2[['is_canceled','required_car_parking_spaces','lead_time','booking_changes','adr','adults']]\n",
    "data3 = data2.copy()\n",
    "X = data3.drop(['is_canceled'], axis=1)\n",
    "y = data3['is_canceled']\n",
    "X_train, X_test, y_train, y_test = train_test_split(X, y, test_size=0.20, shuffle=False)\n",
    "log = LogisticRegression().fit(X_train, y_train)\n",
    "print(\"log.coef_: {}\".format(log.coef_))\n",
    "print(\"log.intercept_: {}\".format(log.intercept_))"
   ]
  },
  {
   "cell_type": "code",
   "execution_count": 13,
   "metadata": {},
   "outputs": [],
   "source": [
    "X_train, X_test, y_train, y_test = train_test_split(X, y, test_size=0.20, shuffle=False)"
   ]
  },
  {
   "cell_type": "code",
   "execution_count": 14,
   "metadata": {},
   "outputs": [
    {
     "data": {
      "text/plain": [
       "{'xtrain': (2399, 5), 'ytrain': (2399,), 'xtest': (600, 5), 'ytest': (600,)}"
      ]
     },
     "execution_count": 14,
     "metadata": {},
     "output_type": "execute_result"
    }
   ],
   "source": [
    "dict = {\"xtrain\": X_train.shape, \"ytrain\": y_train.shape,\"xtest\": X_test.shape, \"ytest\": y_test.shape}\n",
    "dict"
   ]
  },
  {
   "cell_type": "code",
   "execution_count": 15,
   "metadata": {},
   "outputs": [],
   "source": [
    "log = LogisticRegression().fit(X_train, y_train)"
   ]
  },
  {
   "cell_type": "code",
   "execution_count": 16,
   "metadata": {},
   "outputs": [
    {
     "name": "stdout",
     "output_type": "stream",
     "text": [
      "log.coef_: [[-4.05779633  0.00655547 -0.77285235  0.0097256   0.08433395]]\n",
      "log.intercept_: [-2.00015595]\n"
     ]
    }
   ],
   "source": [
    "print(\"log.coef_: {}\".format(log.coef_))\n",
    "print(\"log.intercept_: {}\".format(log.intercept_))"
   ]
  },
  {
   "cell_type": "code",
   "execution_count": 17,
   "metadata": {},
   "outputs": [],
   "source": [
    "y_pred = log.predict(X_test)"
   ]
  },
  {
   "cell_type": "markdown",
   "metadata": {},
   "source": [
    "### Model Performance"
   ]
  },
  {
   "cell_type": "code",
   "execution_count": 60,
   "metadata": {},
   "outputs": [
    {
     "name": "stdout",
     "output_type": "stream",
     "text": [
      "Training set score: 0.69\n",
      "Test set score: 0.69\n"
     ]
    }
   ],
   "source": [
    "print(\"Training set score: {:.2f}\".format(log.score(X_train, y_train)))\n",
    "print(\"Test set score: {:.2f}\".format(log.score(X_test, y_test)))"
   ]
  },
  {
   "cell_type": "markdown",
   "metadata": {},
   "source": [
    "without the standard scaler we have : Training set score: 0.60 - Test set score: 0.22\n",
    "with the standard scaler we have : Training set score: 0.68 -  Test set score: 0.57\n",
    "if we reduce the number of lines then we increases the performance\n",
    " with the standardscaler and iloc we have train 0.68 and test 0.69"
   ]
  },
  {
   "cell_type": "markdown",
   "metadata": {},
   "source": [
    "### Evaluation Model"
   ]
  },
  {
   "cell_type": "code",
   "execution_count": 61,
   "metadata": {},
   "outputs": [
    {
     "data": {
      "text/plain": [
       "array([[410,   1],\n",
       "       [184,   5]], dtype=int64)"
      ]
     },
     "execution_count": 61,
     "metadata": {},
     "output_type": "execute_result"
    }
   ],
   "source": [
    "confusion_matrix(y_test,y_pred)"
   ]
  },
  {
   "cell_type": "code",
   "execution_count": 62,
   "metadata": {},
   "outputs": [
    {
     "data": {
      "image/png": "[encoded data removed]",
      "text/plain": [
       "<Figure size 576x360 with 2 Axes>"
      ]
     },
     "metadata": {
      "needs_background": "light"
     },
     "output_type": "display_data"
    }
   ],
   "source": [
    "f, ax = plt.subplots(figsize=(8,5))\n",
    "sns.heatmap(confusion_matrix(y_test, y_pred), annot=True, fmt='.0f', ax=ax)\n",
    "plt.xlabel('y Actual')\n",
    "plt.ylabel('y Predicted')\n",
    "plt.show()"
   ]
  },
  {
   "cell_type": "markdown",
   "metadata": {},
   "source": [
    "On this model, we can see that False Negative (Predicted 0, Actual 1). That is something that we need to be concerned about, because I think it is something that could produce the most loss for the company. If that happens, the company wrongly predict that someone that actually canceled the book, but noted that they are not cancelling their bookings. By that reason, the company did not gain money becuase those people did not pay the company."
   ]
  },
  {
   "cell_type": "markdown",
   "metadata": {},
   "source": [
    "## Part 2: Diving Into Some Details"
   ]
  },
  {
   "cell_type": "markdown",
   "metadata": {},
   "source": [
    "### Exercise 1\n",
    "\n",
    "What is the distribution of the average daily rate (ADR)? Do you notice anything peculiar about this distribution? If so, and if you think something should be done about it, state it and do that. Also, approximate the mean and standard deviation of this distribution by eye, and then compare with the actual values."
   ]
  },
  {
   "cell_type": "code",
   "execution_count": 18,
   "metadata": {},
   "outputs": [],
   "source": [
    "data = data.dropna()"
   ]
  },
  {
   "cell_type": "code",
   "execution_count": 19,
   "metadata": {},
   "outputs": [
    {
     "data": {
      "text/plain": [
       "[<matplotlib.lines.Line2D at 0x24b805cc8b0>]"
      ]
     },
     "execution_count": 19,
     "metadata": {},
     "output_type": "execute_result"
    },
    {
     "data": {
      "image/png": "[encoded data removed]",
      "text/plain": [
       "<Figure size 432x288 with 1 Axes>"
      ]
     },
     "metadata": {
      "needs_background": "light"
     },
     "output_type": "display_data"
    }
   ],
   "source": [
    "plt.plot(data['adr'].values)"
   ]
  },
  {
   "cell_type": "code",
   "execution_count": 21,
   "metadata": {},
   "outputs": [
    {
     "name": "stdout",
     "output_type": "stream",
     "text": [
      "5400.0\n"
     ]
    }
   ],
   "source": [
    "max_adr = (max(data['adr']))\n",
    "print(max_adr)"
   ]
  },
  {
   "cell_type": "code",
   "execution_count": 22,
   "metadata": {},
   "outputs": [],
   "source": [
    "data.drop(data.loc[data['adr'] == max_adr].index, inplace = True)"
   ]
  },
  {
   "cell_type": "code",
   "execution_count": 23,
   "metadata": {},
   "outputs": [
    {
     "data": {
      "text/plain": [
       "[<matplotlib.lines.Line2D at 0x24b808443a0>]"
      ]
     },
     "execution_count": 23,
     "metadata": {},
     "output_type": "execute_result"
    },
    {
     "data": {
      "image/png": "[encoded data removed]",
      "text/plain": [
       "<Figure size 432x288 with 1 Axes>"
      ]
     },
     "metadata": {
      "needs_background": "light"
     },
     "output_type": "display_data"
    }
   ],
   "source": [
    "plt.plot(data['adr'].values)"
   ]
  },
  {
   "cell_type": "markdown",
   "metadata": {},
   "source": [
    "#### Standardize the ADR feature\n",
    "Standardize features by removing the mean and scaling to unit variance\n",
    "\n",
    "The standard score of a sample x is calculated as:\n",
    "\n",
    "z = (x - u) / s"
   ]
  },
  {
   "cell_type": "code",
   "execution_count": 24,
   "metadata": {},
   "outputs": [],
   "source": [
    "cols_to_norm = ['adr']\n",
    "data[cols_to_norm] = StandardScaler().fit_transform(data[cols_to_norm])"
   ]
  },
  {
   "cell_type": "code",
   "execution_count": 25,
   "metadata": {},
   "outputs": [
    {
     "data": {
      "text/plain": [
       "[<matplotlib.lines.Line2D at 0x24b80342520>]"
      ]
     },
     "execution_count": 25,
     "metadata": {},
     "output_type": "execute_result"
    },
    {
     "data": {
      "image/png": "[encoded data removed]",
      "text/plain": [
       "<Figure size 432x288 with 1 Axes>"
      ]
     },
     "metadata": {
      "needs_background": "light"
     },
     "output_type": "display_data"
    }
   ],
   "source": [
    "plt.plot(data['adr'].values)"
   ]
  },
  {
   "cell_type": "markdown",
   "metadata": {},
   "source": [
    "By checking with just eye it looks that mean is near to zero and std is near to 1, we can verify it"
   ]
  },
  {
   "cell_type": "markdown",
   "metadata": {},
   "source": [
    "How would you investigate the relationships between the various features of the data? Explainand demonstrate"
   ]
  },
  {
   "cell_type": "code",
   "execution_count": 34,
   "metadata": {},
   "outputs": [
    {
     "data": {
      "text/html": [
       "<div>\n",
       "<style scoped>\n",
       "    .dataframe tbody tr th:only-of-type {\n",
       "        vertical-align: middle;\n",
       "    }\n",
       "\n",
       "    .dataframe tbody tr th {\n",
       "        vertical-align: top;\n",
       "    }\n",
       "\n",
       "    .dataframe thead th {\n",
       "        text-align: right;\n",
       "    }\n",
       "</style>\n",
       "<table border=\"1\" class=\"dataframe\">\n",
       "  <thead>\n",
       "    <tr style=\"text-align: right;\">\n",
       "      <th></th>\n",
       "      <th>is_canceled</th>\n",
       "      <th>lead_time</th>\n",
       "      <th>arrival_date_week_number</th>\n",
       "      <th>stays_in_weekend_nights</th>\n",
       "      <th>stays_in_week_nights</th>\n",
       "      <th>adults</th>\n",
       "      <th>children</th>\n",
       "      <th>babies</th>\n",
       "      <th>is_repeated_guest</th>\n",
       "      <th>previous_cancellations</th>\n",
       "      <th>previous_bookings_not_canceled</th>\n",
       "      <th>booking_changes</th>\n",
       "      <th>agent</th>\n",
       "      <th>company</th>\n",
       "      <th>days_in_waiting_list</th>\n",
       "      <th>adr</th>\n",
       "      <th>required_car_parking_spaces</th>\n",
       "      <th>total_of_special_requests</th>\n",
       "    </tr>\n",
       "  </thead>\n",
       "  <tbody>\n",
       "    <tr>\n",
       "      <th>is_canceled</th>\n",
       "      <td>1.000000</td>\n",
       "      <td>0.291612</td>\n",
       "      <td>0.007676</td>\n",
       "      <td>-0.002212</td>\n",
       "      <td>0.024812</td>\n",
       "      <td>0.056128</td>\n",
       "      <td>0.004537</td>\n",
       "      <td>-0.032605</td>\n",
       "      <td>-0.084140</td>\n",
       "      <td>0.109911</td>\n",
       "      <td>-0.055502</td>\n",
       "      <td>-0.145152</td>\n",
       "      <td>-0.046853</td>\n",
       "      <td>-0.082203</td>\n",
       "      <td>0.054114</td>\n",
       "      <td>0.045924</td>\n",
       "      <td>-0.195011</td>\n",
       "      <td>-0.235917</td>\n",
       "    </tr>\n",
       "    <tr>\n",
       "      <th>lead_time</th>\n",
       "      <td>0.291612</td>\n",
       "      <td>1.000000</td>\n",
       "      <td>0.126870</td>\n",
       "      <td>0.084322</td>\n",
       "      <td>0.165909</td>\n",
       "      <td>0.115022</td>\n",
       "      <td>-0.038581</td>\n",
       "      <td>-0.021231</td>\n",
       "      <td>-0.123868</td>\n",
       "      <td>0.085948</td>\n",
       "      <td>-0.071164</td>\n",
       "      <td>0.002133</td>\n",
       "      <td>-0.013777</td>\n",
       "      <td>-0.083299</td>\n",
       "      <td>0.169934</td>\n",
       "      <td>-0.070985</td>\n",
       "      <td>-0.115708</td>\n",
       "      <td>-0.096714</td>\n",
       "    </tr>\n",
       "    <tr>\n",
       "      <th>arrival_date_week_number</th>\n",
       "      <td>0.007676</td>\n",
       "      <td>0.126870</td>\n",
       "      <td>1.000000</td>\n",
       "      <td>0.018078</td>\n",
       "      <td>0.015524</td>\n",
       "      <td>0.025958</td>\n",
       "      <td>0.005525</td>\n",
       "      <td>0.010057</td>\n",
       "      <td>-0.031415</td>\n",
       "      <td>0.035353</td>\n",
       "      <td>-0.020877</td>\n",
       "      <td>0.005988</td>\n",
       "      <td>-0.018207</td>\n",
       "      <td>-0.033040</td>\n",
       "      <td>0.022731</td>\n",
       "      <td>0.080459</td>\n",
       "      <td>0.001768</td>\n",
       "      <td>0.025804</td>\n",
       "    </tr>\n",
       "    <tr>\n",
       "      <th>stays_in_weekend_nights</th>\n",
       "      <td>-0.002212</td>\n",
       "      <td>0.084322</td>\n",
       "      <td>0.018078</td>\n",
       "      <td>1.000000</td>\n",
       "      <td>0.490097</td>\n",
       "      <td>0.093399</td>\n",
       "      <td>0.045778</td>\n",
       "      <td>0.018522</td>\n",
       "      <td>-0.086588</td>\n",
       "      <td>-0.012999</td>\n",
       "      <td>-0.040728</td>\n",
       "      <td>0.049232</td>\n",
       "      <td>0.163006</td>\n",
       "      <td>-0.078985</td>\n",
       "      <td>-0.054811</td>\n",
       "      <td>0.052010</td>\n",
       "      <td>-0.018101</td>\n",
       "      <td>0.072141</td>\n",
       "    </tr>\n",
       "    <tr>\n",
       "      <th>stays_in_week_nights</th>\n",
       "      <td>0.024812</td>\n",
       "      <td>0.165909</td>\n",
       "      <td>0.015524</td>\n",
       "      <td>0.490097</td>\n",
       "      <td>1.000000</td>\n",
       "      <td>0.095401</td>\n",
       "      <td>0.044721</td>\n",
       "      <td>0.020343</td>\n",
       "      <td>-0.096021</td>\n",
       "      <td>-0.014252</td>\n",
       "      <td>-0.047478</td>\n",
       "      <td>0.079344</td>\n",
       "      <td>0.198262</td>\n",
       "      <td>-0.042273</td>\n",
       "      <td>-0.002160</td>\n",
       "      <td>0.069355</td>\n",
       "      <td>-0.024432</td>\n",
       "      <td>0.067356</td>\n",
       "    </tr>\n",
       "    <tr>\n",
       "      <th>adults</th>\n",
       "      <td>0.056128</td>\n",
       "      <td>0.115022</td>\n",
       "      <td>0.025958</td>\n",
       "      <td>0.093399</td>\n",
       "      <td>0.095401</td>\n",
       "      <td>1.000000</td>\n",
       "      <td>0.028604</td>\n",
       "      <td>0.017642</td>\n",
       "      <td>-0.141921</td>\n",
       "      <td>-0.007278</td>\n",
       "      <td>-0.105795</td>\n",
       "      <td>-0.042072</td>\n",
       "      <td>0.022551</td>\n",
       "      <td>-0.162768</td>\n",
       "      <td>-0.008814</td>\n",
       "      <td>0.232277</td>\n",
       "      <td>0.016107</td>\n",
       "      <td>0.122420</td>\n",
       "    </tr>\n",
       "    <tr>\n",
       "      <th>children</th>\n",
       "      <td>0.004537</td>\n",
       "      <td>-0.038581</td>\n",
       "      <td>0.005525</td>\n",
       "      <td>0.045778</td>\n",
       "      <td>0.044721</td>\n",
       "      <td>0.028604</td>\n",
       "      <td>1.000000</td>\n",
       "      <td>0.024101</td>\n",
       "      <td>-0.032602</td>\n",
       "      <td>-0.024776</td>\n",
       "      <td>-0.020368</td>\n",
       "      <td>0.050720</td>\n",
       "      <td>0.050255</td>\n",
       "      <td>-0.041979</td>\n",
       "      <td>-0.033415</td>\n",
       "      <td>0.341758</td>\n",
       "      <td>0.057058</td>\n",
       "      <td>0.081809</td>\n",
       "    </tr>\n",
       "    <tr>\n",
       "      <th>babies</th>\n",
       "      <td>-0.032605</td>\n",
       "      <td>-0.021231</td>\n",
       "      <td>0.010057</td>\n",
       "      <td>0.018522</td>\n",
       "      <td>0.020343</td>\n",
       "      <td>0.017642</td>\n",
       "      <td>0.024101</td>\n",
       "      <td>1.000000</td>\n",
       "      <td>-0.008823</td>\n",
       "      <td>-0.007496</td>\n",
       "      <td>-0.006306</td>\n",
       "      <td>0.085390</td>\n",
       "      <td>0.030570</td>\n",
       "      <td>-0.009178</td>\n",
       "      <td>-0.010654</td>\n",
       "      <td>0.029956</td>\n",
       "      <td>0.036978</td>\n",
       "      <td>0.097653</td>\n",
       "    </tr>\n",
       "    <tr>\n",
       "      <th>is_repeated_guest</th>\n",
       "      <td>-0.084140</td>\n",
       "      <td>-0.123868</td>\n",
       "      <td>-0.031415</td>\n",
       "      <td>-0.086588</td>\n",
       "      <td>-0.096021</td>\n",
       "      <td>-0.141921</td>\n",
       "      <td>-0.032602</td>\n",
       "      <td>-0.008823</td>\n",
       "      <td>1.000000</td>\n",
       "      <td>0.082825</td>\n",
       "      <td>0.425875</td>\n",
       "      <td>0.013129</td>\n",
       "      <td>-0.051797</td>\n",
       "      <td>0.163925</td>\n",
       "      <td>-0.022142</td>\n",
       "      <td>-0.138252</td>\n",
       "      <td>0.078620</td>\n",
       "      <td>0.013075</td>\n",
       "    </tr>\n",
       "    <tr>\n",
       "      <th>previous_cancellations</th>\n",
       "      <td>0.109911</td>\n",
       "      <td>0.085948</td>\n",
       "      <td>0.035353</td>\n",
       "      <td>-0.012999</td>\n",
       "      <td>-0.014252</td>\n",
       "      <td>-0.007278</td>\n",
       "      <td>-0.024776</td>\n",
       "      <td>-0.007496</td>\n",
       "      <td>0.082825</td>\n",
       "      <td>1.000000</td>\n",
       "      <td>0.154127</td>\n",
       "      <td>-0.027360</td>\n",
       "      <td>-0.018181</td>\n",
       "      <td>-0.001028</td>\n",
       "      <td>0.005940</td>\n",
       "      <td>-0.069454</td>\n",
       "      <td>-0.018501</td>\n",
       "      <td>-0.048682</td>\n",
       "    </tr>\n",
       "    <tr>\n",
       "      <th>previous_bookings_not_canceled</th>\n",
       "      <td>-0.055502</td>\n",
       "      <td>-0.071164</td>\n",
       "      <td>-0.020877</td>\n",
       "      <td>-0.040728</td>\n",
       "      <td>-0.047478</td>\n",
       "      <td>-0.105795</td>\n",
       "      <td>-0.020368</td>\n",
       "      <td>-0.006306</td>\n",
       "      <td>0.425875</td>\n",
       "      <td>0.154127</td>\n",
       "      <td>1.000000</td>\n",
       "      <td>0.012326</td>\n",
       "      <td>-0.044831</td>\n",
       "      <td>0.105592</td>\n",
       "      <td>-0.009029</td>\n",
       "      <td>-0.073198</td>\n",
       "      <td>0.046798</td>\n",
       "      <td>0.037550</td>\n",
       "    </tr>\n",
       "    <tr>\n",
       "      <th>booking_changes</th>\n",
       "      <td>-0.145152</td>\n",
       "      <td>0.002133</td>\n",
       "      <td>0.005988</td>\n",
       "      <td>0.049232</td>\n",
       "      <td>0.079344</td>\n",
       "      <td>-0.042072</td>\n",
       "      <td>0.050720</td>\n",
       "      <td>0.085390</td>\n",
       "      <td>0.013129</td>\n",
       "      <td>-0.027360</td>\n",
       "      <td>0.012326</td>\n",
       "      <td>1.000000</td>\n",
       "      <td>0.038771</td>\n",
       "      <td>0.090574</td>\n",
       "      <td>-0.011938</td>\n",
       "      <td>0.026450</td>\n",
       "      <td>0.067604</td>\n",
       "      <td>0.054630</td>\n",
       "    </tr>\n",
       "    <tr>\n",
       "      <th>agent</th>\n",
       "      <td>-0.046853</td>\n",
       "      <td>-0.013777</td>\n",
       "      <td>-0.018207</td>\n",
       "      <td>0.163006</td>\n",
       "      <td>0.198262</td>\n",
       "      <td>0.022551</td>\n",
       "      <td>0.050255</td>\n",
       "      <td>0.030570</td>\n",
       "      <td>-0.051797</td>\n",
       "      <td>-0.018181</td>\n",
       "      <td>-0.044831</td>\n",
       "      <td>0.038771</td>\n",
       "      <td>1.000000</td>\n",
       "      <td>-0.119742</td>\n",
       "      <td>-0.041343</td>\n",
       "      <td>0.016413</td>\n",
       "      <td>0.120782</td>\n",
       "      <td>0.060455</td>\n",
       "    </tr>\n",
       "    <tr>\n",
       "      <th>company</th>\n",
       "      <td>-0.082203</td>\n",
       "      <td>-0.083299</td>\n",
       "      <td>-0.033040</td>\n",
       "      <td>-0.078985</td>\n",
       "      <td>-0.042273</td>\n",
       "      <td>-0.162768</td>\n",
       "      <td>-0.041979</td>\n",
       "      <td>-0.009178</td>\n",
       "      <td>0.163925</td>\n",
       "      <td>-0.001028</td>\n",
       "      <td>0.105592</td>\n",
       "      <td>0.090574</td>\n",
       "      <td>-0.119742</td>\n",
       "      <td>1.000000</td>\n",
       "      <td>-0.022684</td>\n",
       "      <td>-0.130705</td>\n",
       "      <td>0.037778</td>\n",
       "      <td>-0.090438</td>\n",
       "    </tr>\n",
       "    <tr>\n",
       "      <th>days_in_waiting_list</th>\n",
       "      <td>0.054114</td>\n",
       "      <td>0.169934</td>\n",
       "      <td>0.022731</td>\n",
       "      <td>-0.054811</td>\n",
       "      <td>-0.002160</td>\n",
       "      <td>-0.008814</td>\n",
       "      <td>-0.033415</td>\n",
       "      <td>-0.010654</td>\n",
       "      <td>-0.022142</td>\n",
       "      <td>0.005940</td>\n",
       "      <td>-0.009029</td>\n",
       "      <td>-0.011938</td>\n",
       "      <td>-0.041343</td>\n",
       "      <td>-0.022684</td>\n",
       "      <td>1.000000</td>\n",
       "      <td>-0.043361</td>\n",
       "      <td>-0.030461</td>\n",
       "      <td>-0.082986</td>\n",
       "    </tr>\n",
       "    <tr>\n",
       "      <th>adr</th>\n",
       "      <td>0.045924</td>\n",
       "      <td>-0.070985</td>\n",
       "      <td>0.080459</td>\n",
       "      <td>0.052010</td>\n",
       "      <td>0.069355</td>\n",
       "      <td>0.232277</td>\n",
       "      <td>0.341758</td>\n",
       "      <td>0.029956</td>\n",
       "      <td>-0.138252</td>\n",
       "      <td>-0.069454</td>\n",
       "      <td>-0.073198</td>\n",
       "      <td>0.026450</td>\n",
       "      <td>0.016413</td>\n",
       "      <td>-0.130705</td>\n",
       "      <td>-0.043361</td>\n",
       "      <td>1.000000</td>\n",
       "      <td>0.061117</td>\n",
       "      <td>0.180936</td>\n",
       "    </tr>\n",
       "    <tr>\n",
       "      <th>required_car_parking_spaces</th>\n",
       "      <td>-0.195011</td>\n",
       "      <td>-0.115708</td>\n",
       "      <td>0.001768</td>\n",
       "      <td>-0.018101</td>\n",
       "      <td>-0.024432</td>\n",
       "      <td>0.016107</td>\n",
       "      <td>0.057058</td>\n",
       "      <td>0.036978</td>\n",
       "      <td>0.078620</td>\n",
       "      <td>-0.018501</td>\n",
       "      <td>0.046798</td>\n",
       "      <td>0.067604</td>\n",
       "      <td>0.120782</td>\n",
       "      <td>0.037778</td>\n",
       "      <td>-0.030461</td>\n",
       "      <td>0.061117</td>\n",
       "      <td>1.000000</td>\n",
       "      <td>0.082779</td>\n",
       "    </tr>\n",
       "    <tr>\n",
       "      <th>total_of_special_requests</th>\n",
       "      <td>-0.235917</td>\n",
       "      <td>-0.096714</td>\n",
       "      <td>0.025804</td>\n",
       "      <td>0.072141</td>\n",
       "      <td>0.067356</td>\n",
       "      <td>0.122420</td>\n",
       "      <td>0.081809</td>\n",
       "      <td>0.097653</td>\n",
       "      <td>0.013075</td>\n",
       "      <td>-0.048682</td>\n",
       "      <td>0.037550</td>\n",
       "      <td>0.054630</td>\n",
       "      <td>0.060455</td>\n",
       "      <td>-0.090438</td>\n",
       "      <td>-0.082986</td>\n",
       "      <td>0.180936</td>\n",
       "      <td>0.082779</td>\n",
       "      <td>1.000000</td>\n",
       "    </tr>\n",
       "  </tbody>\n",
       "</table>\n",
       "</div>"
      ],
      "text/plain": [
       "                                is_canceled  lead_time  \\\n",
       "is_canceled                        1.000000   0.291612   \n",
       "lead_time                          0.291612   1.000000   \n",
       "arrival_date_week_number           0.007676   0.126870   \n",
       "stays_in_weekend_nights           -0.002212   0.084322   \n",
       "stays_in_week_nights               0.024812   0.165909   \n",
       "adults                             0.056128   0.115022   \n",
       "children                           0.004537  -0.038581   \n",
       "babies                            -0.032605  -0.021231   \n",
       "is_repeated_guest                 -0.084140  -0.123868   \n",
       "previous_cancellations             0.109911   0.085948   \n",
       "previous_bookings_not_canceled    -0.055502  -0.071164   \n",
       "booking_changes                   -0.145152   0.002133   \n",
       "agent                             -0.046853  -0.013777   \n",
       "company                           -0.082203  -0.083299   \n",
       "days_in_waiting_list               0.054114   0.169934   \n",
       "adr                                0.045924  -0.070985   \n",
       "required_car_parking_spaces       -0.195011  -0.115708   \n",
       "total_of_special_requests         -0.235917  -0.096714   \n",
       "\n",
       "                                arrival_date_week_number  \\\n",
       "is_canceled                                     0.007676   \n",
       "lead_time                                       0.126870   \n",
       "arrival_date_week_number                        1.000000   \n",
       "stays_in_weekend_nights                         0.018078   \n",
       "stays_in_week_nights                            0.015524   \n",
       "adults                                          0.025958   \n",
       "children                                        0.005525   \n",
       "babies                                          0.010057   \n",
       "is_repeated_guest                              -0.031415   \n",
       "previous_cancellations                          0.035353   \n",
       "previous_bookings_not_canceled                 -0.020877   \n",
       "booking_changes                                 0.005988   \n",
       "agent                                          -0.018207   \n",
       "company                                        -0.033040   \n",
       "days_in_waiting_list                            0.022731   \n",
       "adr                                             0.080459   \n",
       "required_car_parking_spaces                     0.001768   \n",
       "total_of_special_requests                       0.025804   \n",
       "\n",
       "                                stays_in_weekend_nights  stays_in_week_nights  \\\n",
       "is_canceled                                   -0.002212              0.024812   \n",
       "lead_time                                      0.084322              0.165909   \n",
       "arrival_date_week_number                       0.018078              0.015524   \n",
       "stays_in_weekend_nights                        1.000000              0.490097   \n",
       "stays_in_week_nights                           0.490097              1.000000   \n",
       "adults                                         0.093399              0.095401   \n",
       "children                                       0.045778              0.044721   \n",
       "babies                                         0.018522              0.020343   \n",
       "is_repeated_guest                             -0.086588             -0.096021   \n",
       "previous_cancellations                        -0.012999             -0.014252   \n",
       "previous_bookings_not_canceled                -0.040728             -0.047478   \n",
       "booking_changes                                0.049232              0.079344   \n",
       "agent                                          0.163006              0.198262   \n",
       "company                                       -0.078985             -0.042273   \n",
       "days_in_waiting_list                          -0.054811             -0.002160   \n",
       "adr                                            0.052010              0.069355   \n",
       "required_car_parking_spaces                   -0.018101             -0.024432   \n",
       "total_of_special_requests                      0.072141              0.067356   \n",
       "\n",
       "                                  adults  children    babies  \\\n",
       "is_canceled                     0.056128  0.004537 -0.032605   \n",
       "lead_time                       0.115022 -0.038581 -0.021231   \n",
       "arrival_date_week_number        0.025958  0.005525  0.010057   \n",
       "stays_in_weekend_nights         0.093399  0.045778  0.018522   \n",
       "stays_in_week_nights            0.095401  0.044721  0.020343   \n",
       "adults                          1.000000  0.028604  0.017642   \n",
       "children                        0.028604  1.000000  0.024101   \n",
       "babies                          0.017642  0.024101  1.000000   \n",
       "is_repeated_guest              -0.141921 -0.032602 -0.008823   \n",
       "previous_cancellations         -0.007278 -0.024776 -0.007496   \n",
       "previous_bookings_not_canceled -0.105795 -0.020368 -0.006306   \n",
       "booking_changes                -0.042072  0.050720  0.085390   \n",
       "agent                           0.022551  0.050255  0.030570   \n",
       "company                        -0.162768 -0.041979 -0.009178   \n",
       "days_in_waiting_list           -0.008814 -0.033415 -0.010654   \n",
       "adr                             0.232277  0.341758  0.029956   \n",
       "required_car_parking_spaces     0.016107  0.057058  0.036978   \n",
       "total_of_special_requests       0.122420  0.081809  0.097653   \n",
       "\n",
       "                                is_repeated_guest  previous_cancellations  \\\n",
       "is_canceled                             -0.084140                0.109911   \n",
       "lead_time                               -0.123868                0.085948   \n",
       "arrival_date_week_number                -0.031415                0.035353   \n",
       "stays_in_weekend_nights                 -0.086588               -0.012999   \n",
       "stays_in_week_nights                    -0.096021               -0.014252   \n",
       "adults                                  -0.141921               -0.007278   \n",
       "children                                -0.032602               -0.024776   \n",
       "babies                                  -0.008823               -0.007496   \n",
       "is_repeated_guest                        1.000000                0.082825   \n",
       "previous_cancellations                   0.082825                1.000000   \n",
       "previous_bookings_not_canceled           0.425875                0.154127   \n",
       "booking_changes                          0.013129               -0.027360   \n",
       "agent                                   -0.051797               -0.018181   \n",
       "company                                  0.163925               -0.001028   \n",
       "days_in_waiting_list                    -0.022142                0.005940   \n",
       "adr                                     -0.138252               -0.069454   \n",
       "required_car_parking_spaces              0.078620               -0.018501   \n",
       "total_of_special_requests                0.013075               -0.048682   \n",
       "\n",
       "                                previous_bookings_not_canceled  \\\n",
       "is_canceled                                          -0.055502   \n",
       "lead_time                                            -0.071164   \n",
       "arrival_date_week_number                             -0.020877   \n",
       "stays_in_weekend_nights                              -0.040728   \n",
       "stays_in_week_nights                                 -0.047478   \n",
       "adults                                               -0.105795   \n",
       "children                                             -0.020368   \n",
       "babies                                               -0.006306   \n",
       "is_repeated_guest                                     0.425875   \n",
       "previous_cancellations                                0.154127   \n",
       "previous_bookings_not_canceled                        1.000000   \n",
       "booking_changes                                       0.012326   \n",
       "agent                                                -0.044831   \n",
       "company                                               0.105592   \n",
       "days_in_waiting_list                                 -0.009029   \n",
       "adr                                                  -0.073198   \n",
       "required_car_parking_spaces                           0.046798   \n",
       "total_of_special_requests                             0.037550   \n",
       "\n",
       "                                booking_changes     agent   company  \\\n",
       "is_canceled                           -0.145152 -0.046853 -0.082203   \n",
       "lead_time                              0.002133 -0.013777 -0.083299   \n",
       "arrival_date_week_number               0.005988 -0.018207 -0.033040   \n",
       "stays_in_weekend_nights                0.049232  0.163006 -0.078985   \n",
       "stays_in_week_nights                   0.079344  0.198262 -0.042273   \n",
       "adults                                -0.042072  0.022551 -0.162768   \n",
       "children                               0.050720  0.050255 -0.041979   \n",
       "babies                                 0.085390  0.030570 -0.009178   \n",
       "is_repeated_guest                      0.013129 -0.051797  0.163925   \n",
       "previous_cancellations                -0.027360 -0.018181 -0.001028   \n",
       "previous_bookings_not_canceled         0.012326 -0.044831  0.105592   \n",
       "booking_changes                        1.000000  0.038771  0.090574   \n",
       "agent                                  0.038771  1.000000 -0.119742   \n",
       "company                                0.090574 -0.119742  1.000000   \n",
       "days_in_waiting_list                  -0.011938 -0.041343 -0.022684   \n",
       "adr                                    0.026450  0.016413 -0.130705   \n",
       "required_car_parking_spaces            0.067604  0.120782  0.037778   \n",
       "total_of_special_requests              0.054630  0.060455 -0.090438   \n",
       "\n",
       "                                days_in_waiting_list       adr  \\\n",
       "is_canceled                                 0.054114  0.045924   \n",
       "lead_time                                   0.169934 -0.070985   \n",
       "arrival_date_week_number                    0.022731  0.080459   \n",
       "stays_in_weekend_nights                    -0.054811  0.052010   \n",
       "stays_in_week_nights                       -0.002160  0.069355   \n",
       "adults                                     -0.008814  0.232277   \n",
       "children                                   -0.033415  0.341758   \n",
       "babies                                     -0.010654  0.029956   \n",
       "is_repeated_guest                          -0.022142 -0.138252   \n",
       "previous_cancellations                      0.005940 -0.069454   \n",
       "previous_bookings_not_canceled             -0.009029 -0.073198   \n",
       "booking_changes                            -0.011938  0.026450   \n",
       "agent                                      -0.041343  0.016413   \n",
       "company                                    -0.022684 -0.130705   \n",
       "days_in_waiting_list                        1.000000 -0.043361   \n",
       "adr                                        -0.043361  1.000000   \n",
       "required_car_parking_spaces                -0.030461  0.061117   \n",
       "total_of_special_requests                  -0.082986  0.180936   \n",
       "\n",
       "                                required_car_parking_spaces  \\\n",
       "is_canceled                                       -0.195011   \n",
       "lead_time                                         -0.115708   \n",
       "arrival_date_week_number                           0.001768   \n",
       "stays_in_weekend_nights                           -0.018101   \n",
       "stays_in_week_nights                              -0.024432   \n",
       "adults                                             0.016107   \n",
       "children                                           0.057058   \n",
       "babies                                             0.036978   \n",
       "is_repeated_guest                                  0.078620   \n",
       "previous_cancellations                            -0.018501   \n",
       "previous_bookings_not_canceled                     0.046798   \n",
       "booking_changes                                    0.067604   \n",
       "agent                                              0.120782   \n",
       "company                                            0.037778   \n",
       "days_in_waiting_list                              -0.030461   \n",
       "adr                                                0.061117   \n",
       "required_car_parking_spaces                        1.000000   \n",
       "total_of_special_requests                          0.082779   \n",
       "\n",
       "                                total_of_special_requests  \n",
       "is_canceled                                     -0.235917  \n",
       "lead_time                                       -0.096714  \n",
       "arrival_date_week_number                         0.025804  \n",
       "stays_in_weekend_nights                          0.072141  \n",
       "stays_in_week_nights                             0.067356  \n",
       "adults                                           0.122420  \n",
       "children                                         0.081809  \n",
       "babies                                           0.097653  \n",
       "is_repeated_guest                                0.013075  \n",
       "previous_cancellations                          -0.048682  \n",
       "previous_bookings_not_canceled                   0.037550  \n",
       "booking_changes                                  0.054630  \n",
       "agent                                            0.060455  \n",
       "company                                         -0.090438  \n",
       "days_in_waiting_list                            -0.082986  \n",
       "adr                                              0.180936  \n",
       "required_car_parking_spaces                      0.082779  \n",
       "total_of_special_requests                        1.000000  "
      ]
     },
     "execution_count": 34,
     "metadata": {},
     "output_type": "execute_result"
    }
   ],
   "source": [
    "corr_matrix = data.corr()\n",
    "corr_matrix"
   ]
  },
  {
   "cell_type": "markdown",
   "metadata": {},
   "source": [
    "we are interested in the ADR feature. Further investigate the relationship between theADR and some of the other features that you think might be relevant. "
   ]
  },
  {
   "cell_type": "code",
   "execution_count": 35,
   "metadata": {},
   "outputs": [
    {
     "name": "stdout",
     "output_type": "stream",
     "text": [
      "adr                               1.000000\n",
      "children                          0.341758\n",
      "adults                            0.232277\n",
      "total_of_special_requests         0.180936\n",
      "arrival_date_week_number          0.080459\n",
      "stays_in_week_nights              0.069355\n",
      "required_car_parking_spaces       0.061117\n",
      "stays_in_weekend_nights           0.052010\n",
      "is_canceled                       0.045924\n",
      "babies                            0.029956\n",
      "booking_changes                   0.026450\n",
      "agent                             0.016413\n",
      "days_in_waiting_list             -0.043361\n",
      "previous_cancellations           -0.069454\n",
      "lead_time                        -0.070985\n",
      "previous_bookings_not_canceled   -0.073198\n",
      "company                          -0.130705\n",
      "is_repeated_guest                -0.138252\n",
      "Name: adr, dtype: float64\n"
     ]
    }
   ],
   "source": [
    "print(corr_matrix['adr'].sort_values(ascending = False))"
   ]
  },
  {
   "cell_type": "markdown",
   "metadata": {},
   "source": [
    "## Part 3: Machine Learning and Data Modeling\n",
    "\n",
    "In this section, we will touch on some advanced data science tools to solve some realistic problems."
   ]
  },
  {
   "cell_type": "markdown",
   "metadata": {},
   "source": [
    "### Exercise 1\n",
    "\n",
    "Deploy a linear machine learning model that predicts the ADR as a function of whatever single feature you think is most strongly correlated. Are you able to get a good prediction stats on your validation set? Why or why not?\n",
    "\n",
    "1(a). Applying linear regression model between **children** features and **ADR** as they are correlated highly. The accuracy on test set is very low because the features wide spreading doesn't cover by linear regression line ( Training set score: 0.12 ,Test set score: 0.11)\n",
    "\n",
    "1(b). Applying linear regression model between **TotalOfSpecialRequests ** features and **ADR** as they are correlated highly. The accuracy on test set is very low because the features wide spreading doesn't cover by linear regression line ( Training set score: 0.03 Test set score: 0.03 )"
   ]
  },
  {
   "cell_type": "markdown",
   "metadata": {},
   "source": [
    "Ridge  regression are some of the simple techniques to reduce model complexity and prevent over-fitting which may result from simple linear regression.\n",
    "Lets apply them on our dataset\n",
    "\n",
    "2(a). Ridge Regression between Children features and ADR. its l2 reglarization but the results are same so model not overfiting  \n",
    "\n",
    "The results are not good, we can assume that we need multiple features to make prediction"
   ]
  },
  {
   "cell_type": "markdown",
   "metadata": {},
   "source": [
    "### Exercise 2\n",
    "\n",
    "Deploy a machine learning model that predicts the ADR as a function of whatever set of features you think are important. Explain your choices for the features and the type of ML model. If you use any, how can you handle the categorical features?\n",
    "\n",
    "How does your model perform?"
   ]
  },
  {
   "cell_type": "markdown",
   "metadata": {},
   "source": [
    "Q: how can you handle the categorical features?\n",
    "\n",
    "Ans: I have used Label Encoder method to deal with the categorical features. It will convert the string type labels value to\n",
    "between 0 and n_classes-1."
   ]
  },
  {
   "cell_type": "code",
   "execution_count": 26,
   "metadata": {},
   "outputs": [],
   "source": [
    "from sklearn.preprocessing import LabelEncoder\n",
    "\n",
    "ADR_Dateset = data['adr'].values\n",
    "\n",
    "data.drop('adr', axis=1, inplace=True)\n",
    "\n",
    "data_LabelEncoded=data.apply(LabelEncoder().fit_transform) # Applying label encoder\n",
    "\n",
    "feature_ADR=data_LabelEncoded.values  # ADR feature is y and all other are X\n",
    "\n",
    "X_train, X_test, y_train, y_test = train_test_split(feature_ADR, ADR_Dateset, random_state=42) \n",
    "# we split the dataset between train and test"
   ]
  },
  {
   "cell_type": "markdown",
   "metadata": {},
   "source": [
    "#### Linear Regreesion for ADR prediction"
   ]
  },
  {
   "cell_type": "code",
   "execution_count": 28,
   "metadata": {},
   "outputs": [
    {
     "name": "stdout",
     "output_type": "stream",
     "text": [
      "Training set score: 0.40\n",
      "Test set score: 0.40\n"
     ]
    }
   ],
   "source": [
    "from sklearn.linear_model import LinearRegression\n",
    "\n",
    "regressor = LinearRegression()\n",
    "linear_reg = regressor.fit(X_train, y_train)\n",
    "score_training = linear_reg.score(X_train, y_train)\n",
    "score_test = linear_reg.score(X_test, y_test)\n",
    "\n",
    "print(\"Training set score: {:.2f}\".format(score_training))\n",
    "print(\"Test set score: {:.2f}\".format(score_test))"
   ]
  },
  {
   "cell_type": "markdown",
   "metadata": {},
   "source": [
    "#### 2-degree Poly Regreesion for ADR prediction\n",
    "\n",
    "As test score is quit less thats why we applied Polynomial Regression to increase chances of model good fit"
   ]
  },
  {
   "cell_type": "code",
   "execution_count": 29,
   "metadata": {},
   "outputs": [
    {
     "name": "stdout",
     "output_type": "stream",
     "text": [
      "Training set score: 0.65\n",
      "Test set score: 0.65\n"
     ]
    }
   ],
   "source": [
    "#polynomial regression on dataset\n",
    "\n",
    "from sklearn.preprocessing import PolynomialFeatures\n",
    "\n",
    "poly_regressor=PolynomialFeatures(degree=2) # initilization of 2d polynomail features\n",
    "X_poly=poly_regressor.fit_transform(X_train) # Converting our features to 2 degree\n",
    "\n",
    "linear_regressor=LinearRegression()\n",
    "linear_reg_poly=linear_regressor.fit(X_poly,y_train)\n",
    "\n",
    "\n",
    "score_training = linear_reg_poly.score(X_poly, y_train)\n",
    "\n",
    "X_test_poly=poly_regressor.fit_transform(X_test)\n",
    "score_test = linear_reg_poly.score(X_test_poly, y_test)\n",
    "\n",
    "print(\"Training set score: {:.2f}\".format(score_training))\n",
    "print(\"Test set score: {:.2f}\".format(score_test))"
   ]
  },
  {
   "cell_type": "markdown",
   "metadata": {},
   "source": [
    "we can observe the Score has been increased from simple linear multiple regression when plynomial regression applied. But still its lower. One thing can be noticed that model is still not over fitting."
   ]
  },
  {
   "cell_type": "markdown",
   "metadata": {},
   "source": [
    "# "
   ]
  },
  {
   "cell_type": "markdown",
   "metadata": {},
   "source": [
    "#### Applying Decision Tree Regressor\n",
    "\n",
    "from sklearn.tree import DecisionTreeRegressor\n",
    "regressor=DecisionTreeRegressor(random_state=0)\n",
    "reg=regressor.fit(X_train,y_train)\n",
    "\n",
    "score_training = reg.score(X_train, y_train)\n",
    "score_test = reg.score(X_test, y_test)\n",
    "\n",
    "print(\"Training set score: {:.2f}\".format(score_training))\n",
    "print(\"Test set score: {:.2f}\".format(score_test))"
   ]
  },
  {
   "cell_type": "markdown",
   "metadata": {},
   "source": [
    "attention mcha linaaaa adr colmn"
   ]
  },
  {
   "cell_type": "markdown",
   "metadata": {},
   "source": [
    "## Part 4: Your Turn\n",
    "#### Applying Random Forest Regressor"
   ]
  },
  {
   "cell_type": "code",
   "execution_count": 34,
   "metadata": {},
   "outputs": [],
   "source": [
    "X_train, X_test, y_train, y_test = train_test_split(feature_ADR, ADR_Dateset, random_state=42)"
   ]
  },
  {
   "cell_type": "code",
   "execution_count": 35,
   "metadata": {},
   "outputs": [
    {
     "name": "stdout",
     "output_type": "stream",
     "text": [
      "Training set score: 0.98\n",
      "Test set score: 0.89\n"
     ]
    }
   ],
   "source": [
    "# Fitting the Random Forest Regression Model to the dataset\n",
    "\n",
    "from sklearn.ensemble import RandomForestRegressor\n",
    "regressor= RandomForestRegressor(n_estimators=10,random_state=0)\n",
    "RF_regressor=regressor.fit(X_train,y_train)\n",
    "\n",
    "score_training = RF_regressor.score(X_train, y_train)\n",
    "score_test = RF_regressor.score(X_test, y_test)\n",
    "\n",
    "print(\"Training set score: {:.2f}\".format(score_training))\n",
    "print(\"Test set score: {:.2f}\".format(score_test))"
   ]
  },
  {
   "cell_type": "markdown",
   "metadata": {},
   "source": [
    "Sum of squared errors (Predicted vs actual) | R^2 (coefficient of determination) regression score function"
   ]
  },
  {
   "cell_type": "code",
   "execution_count": 36,
   "metadata": {},
   "outputs": [
    {
     "name": "stdout",
     "output_type": "stream",
     "text": [
      "squared_errors: 3386.5469722643084\n",
      "R2 score: 0.8854006704852415\n"
     ]
    }
   ],
   "source": [
    "predicted=RF_regressor.predict(X_test)\n",
    "squared_errors = (y_test - predicted) ** 2\n",
    "\n",
    "print ('squared_errors:',np.sum(squared_errors))\n",
    "\n",
    "\n",
    "\n",
    "from sklearn.metrics import r2_score\n",
    "print ('R2 score:',r2_score(y_test, predicted))"
   ]
  },
  {
   "cell_type": "code",
   "execution_count": null,
   "metadata": {},
   "outputs": [],
   "source": []
  }
 ],
 "metadata": {
  "kernelspec": {
   "display_name": "Python 3",
   "language": "python",
   "name": "python3"
  },
  "language_info": {
   "codemirror_mode": {
    "name": "ipython",
    "version": 3
   },
   "file_extension": ".py",
   "mimetype": "text/x-python",
   "name": "python",
   "nbconvert_exporter": "python",
   "pygments_lexer": "ipython3",
   "version": "3.8.5"
  }
 },
 "nbformat": 4,
 "nbformat_minor": 4
}
